{
  "nbformat": 4,
  "nbformat_minor": 0,
  "metadata": {
    "colab": {
      "name": "Clase 4 - Curso Python.ipynb",
      "provenance": [],
      "collapsed_sections": [],
      "toc_visible": true,
      "include_colab_link": true
    },
    "kernelspec": {
      "name": "python3",
      "display_name": "Python 3"
    }
  },
  "cells": [
    {
      "cell_type": "markdown",
      "metadata": {
        "id": "view-in-github",
        "colab_type": "text"
      },
      "source": [
        "<a href=\"https://colab.research.google.com/github/newtonis/EjemplosElectrotecnia/blob/master/Clase_4_Curso_Python.ipynb\" target=\"_parent\"><img src=\"https://colab.research.google.com/assets/colab-badge.svg\" alt=\"Open In Colab\"/></a>"
      ]
    },
    {
      "cell_type": "markdown",
      "metadata": {
        "id": "aDJaFIGtNiyR",
        "colab_type": "text"
      },
      "source": [
        "# **Opciones para esta clase**\n",
        "Tienen tres opciones para correr los programas de hoy:\n",
        "\n",
        "*   En **Google Colab** (como fue hecho hasta ahora) - **Facil**\n",
        "*   Con [**Python**](https://realpython.com/installing-python/#windows) + [**Visual studio code**](https://code.visualstudio.com/docs/languages/python) - **Medio**\n",
        "*   Con [**Python**](https://realpython.com/installing-python/#windows) + [**Pycharm**](https://www.tutorialspoint.com/pycharm/pycharm_installation.htm) - **Medio** - solo si la computadora es suficientemente rápida\n",
        "\n",
        "\n",
        "\n",
        "\n",
        "\n",
        "\n",
        "\n",
        "\n",
        "\n"
      ]
    },
    {
      "cell_type": "markdown",
      "metadata": {
        "colab_type": "text",
        "id": "rwztJLOU3QXt"
      },
      "source": [
        "# **Clase 4: Visualización de datos**\n",
        "\n",
        "¡Bienvenidos a la última clase! Concluiremos el curso aprendiendo a realizar gráficos en **Python**.\n",
        "\n",
        "<img src=\"https://www.ingeniovirtual.com/wp-content/uploads/tipos-de-graficos-y-diagramas-1.jpg\" width=550>\n",
        "\n"
      ]
    },
    {
      "cell_type": "markdown",
      "metadata": {
        "id": "BdFvKELO9JM9",
        "colab_type": "text"
      },
      "source": [
        "\n",
        "Hasta ahora, se les ha enseñado un manejo del lenguaje que les permitió escribir, leer e interactuar con información. \n",
        "\n",
        "En esta clase comenzaremos a enseñarles formas de que la información sea visualizada de una manera sencilla.  Es importante tener en cuenta que la forma en la que mostramos datos simpre debe enfatizar algun aspecto.\n",
        "\n",
        "Algunas liberías de visualizacion son:\n",
        "\n",
        "\n",
        "\n",
        "*   **Matplotlib**\n",
        "*   **Seaborn**\n",
        "*   **Plotly**\n",
        "\n",
        "Pueden leer sobre ellas [aqui](https://www.fusioncharts.com/blog/best-python-data-visualization-libraries/).\n",
        "\n",
        "En esta clase les mostraremos como utilizar maplotlib, que es la libería más común. El uso de otras liberías es similar.\n",
        "\n"
      ]
    },
    {
      "cell_type": "markdown",
      "metadata": {
        "id": "d7OEWr87TtHt",
        "colab_type": "text"
      },
      "source": [
        "# **Liberías numpy y matplotlib**\n",
        "\n",
        "Se dará una introducción a estas dos liberías que son de las más utilizadas. "
      ]
    },
    {
      "cell_type": "markdown",
      "metadata": {
        "id": "5_4URg5WTv3R",
        "colab_type": "text"
      },
      "source": [
        "## **Numpy**\n",
        "[Numpy]((https://numpy.org/) (**Num**-ber **Py**-thon) es la libreria estándar de Python para trabajar con vectores y matrices. Extiende la funcionalidad de python permitiendo el uso de expresiones vectorizadas (tales como las de matlab, competencia en el campo de cálculo cientifico)\n",
        "\n",
        "<img src=\"https://upload.wikimedia.org/wikipedia/commons/thumb/1/1a/NumPy_logo.svg/1200px-NumPy_logo.svg.png\" width = 450>\n",
        "\n",
        "## **Maplotlib**\n",
        "[Matplotlib](https://matplotlib.org/) (**Mat**-h **Plot** **Lib**rary) es la libreria estandar de Python para realizar gráficos de diversos tipos. \n",
        "\n",
        "<img src=\"https://matplotlib.org/_static/logo2.png\" width= 500>\n",
        "\n",
        "\n",
        "<img src=\"https://scipy-cookbook.readthedocs.io/_downloads/contourf3D.png\" width=300px>\n",
        "\n",
        "<img src=\"https://s3.amazonaws.com/stackabuse/media/linear-regression-python-scikit-learn-1.png\" width=300px>\n",
        "\n",
        "<img src=\"https://www.machinelearningplus.com/wp-content/uploads/2018/11/23_DensityPlot_With_Histogram_Matplotlib-min.png\" width=300px>\n",
        "\n",
        "<img src=\"https://www.machinelearningplus.com/wp-content/uploads/2018/11/29_PyramidPlot_Matplotlib-min.png\" width=300px>\n",
        "<img src=\"https://www.machinelearningplus.com/wp-content/uploads/2018/11/36_TimeSeries_Peaks_Troughs_Matplotlib-min.png\" width=300px>\n",
        "\n",
        "\n",
        "A continuación mostraremos un ejemplo del uso de numpy y maplotlib utilizando las siguientes funciones:\n",
        "\n",
        "*   [np.arrage(start, stop, step)](https://docs.scipy.org/doc/numpy/reference/generated/numpy.arange.html)\n",
        "*   [np.sin(x)](https://docs.scipy.org/doc/numpy/reference/generated/numpy.sin.html)\n",
        "*   [plt.plot(x, y)](https://matplotlib.org/3.1.1/api/_as_gen/matplotlib.pyplot.plot.html)\n",
        "*   [plt.show()](https://matplotlib.org/3.1.1/api/_as_gen/matplotlib.pyplot.show.html)\n",
        "\n"
      ]
    },
    {
      "cell_type": "code",
      "metadata": {
        "id": "85fUJfueEiMY",
        "colab_type": "code",
        "colab": {}
      },
      "source": [
        "import matplotlib.pyplot as plt\n",
        "import numpy as np\n",
        "import math\n",
        "\n",
        "t = np.linspace(0,1,10000)\n",
        "seno = 5*np.sin(2*np.pi*10*t) # expresion vectorizada, tenemos los valores de sin(x) en cada instante\n",
        "\n",
        "plt.plot(t,seno)\n",
        "plt.show()\n"
      ],
      "execution_count": 0,
      "outputs": []
    },
    {
      "cell_type": "markdown",
      "metadata": {
        "id": "lLCE50YvT5hW",
        "colab_type": "text"
      },
      "source": [
        "### **Mini task 1**\n",
        "\n",
        "Gráficar en el intervalo de **[-5, 5]** una [función gaussiana](https://es.wikipedia.org/wiki/Funci%C3%B3n_gaussiana) definida como\n",
        "\n",
        "$$ f(x) = e^{-x^2/2} $$\n",
        "\n",
        "Usar la funcion [np.exp](https://docs.scipy.org/doc/numpy/reference/generated/numpy.exp.html) de numpy "
      ]
    },
    {
      "cell_type": "code",
      "metadata": {
        "id": "dKIR60tZUivR",
        "colab_type": "code",
        "colab": {}
      },
      "source": [
        ""
      ],
      "execution_count": 0,
      "outputs": []
    },
    {
      "cell_type": "markdown",
      "metadata": {
        "id": "FFHr_H9OE1_9",
        "colab_type": "text"
      },
      "source": [
        "## **Cambio del tipo de linea**"
      ]
    },
    {
      "cell_type": "markdown",
      "metadata": {
        "id": "Qb5YYzG6LX_F",
        "colab_type": "text"
      },
      "source": [
        "Mostramos un ejemplo donde le cambiamos el tipo de linea agregando los parámetros **m***, **r--**"
      ]
    },
    {
      "cell_type": "code",
      "metadata": {
        "id": "uiDyy7lnLq1q",
        "colab_type": "code",
        "outputId": "26062d9b-8a49-4497-ae06-ad550772ceeb",
        "colab": {
          "base_uri": "https://localhost:8080/",
          "height": 265
        }
      },
      "source": [
        "import numpy as np\n",
        "import matplotlib.pyplot as plt \n",
        "\n",
        "x = np.arange(0,2*3.14,0.25)\n",
        "y = np.sin(x)\n",
        "plt.plot(x,y,'m*') # con estrellas\n",
        "plt.plot(x,np.cos(x),'r--') # linea punteada\n",
        "plt.show()"
      ],
      "execution_count": 0,
      "outputs": [
        {
          "output_type": "display_data",
          "data": {
            "image/png": "[encoded data removed]",
            "text/plain": [
              "<Figure size 432x288 with 1 Axes>"
            ]
          },
          "metadata": {
            "tags": []
          }
        }
      ]
    },
    {
      "cell_type": "markdown",
      "metadata": {
        "id": "Ya46ONWbL2MQ",
        "colab_type": "text"
      },
      "source": [
        "En esta tabla pueden ver distintos colores y tipos de linea\n",
        "\n",
        "\n",
        "\n",
        "\n",
        "\n",
        "<img src=\"https://github.com/IEEESBITBA/Curso-Python/blob/master/_assets/ColoresLineas.png?raw=True\" height=\"600px\">\n",
        "\n"
      ]
    },
    {
      "cell_type": "markdown",
      "metadata": {
        "id": "ZK7hQa0XOHS0",
        "colab_type": "text"
      },
      "source": [
        "También se le puede colocar un label a los graficos que realicen\n",
        "\n",
        "Noten que debemos decirle a matplotlib que muestre el nombre esto lo hacemos llamando a:  plt.**legend**()"
      ]
    },
    {
      "cell_type": "code",
      "metadata": {
        "id": "CCeKaBGTOLXN",
        "colab_type": "code",
        "colab": {}
      },
      "source": [
        "x = np.arange(0,2*3.14,0.01)\n",
        "y = np.sin(x)\n",
        "plt.figure(figsize=(6,6))\n",
        "y2 = np.cos(x) + np.sin(x)\n",
        "plt.plot(x,y,'b-',label='Seno') # graficamos función y\n",
        "plt.plot(x,y2,'r-.',label='Coseno') # graficamos función x\n",
        "plt.legend() #le decimos a maplotlib que indique la leyenda"
      ],
      "execution_count": 0,
      "outputs": []
    },
    {
      "cell_type": "markdown",
      "metadata": {
        "id": "69Wh3mpUT920",
        "colab_type": "text"
      },
      "source": [
        "#### **Mini task 2** - versión A facil\n",
        "\n",
        " Se pide realizar un grafico del valor del  **Bitcoin** de los ultimos 10 años, marcar con un punto el valor maximo del gráfico, calcular cuando sucedió.\n",
        "\n",
        " **Nota:**  \n",
        " - Los valores a graficar estan la columna open (usando **to_dict(\"list\"**) podrían resolver el problema)."
      ]
    },
    {
      "cell_type": "code",
      "metadata": {
        "id": "L4MBa8dA6dO_",
        "colab_type": "code",
        "colab": {}
      },
      "source": [
        "! wget  https://raw.githubusercontent.com/LedesmaFran/python/master/BTC.csv         #WARNING No tiene 10 Años\n",
        "\n",
        "#Datos extraidos desde https://es.finance.yahoo.com/"
      ],
      "execution_count": 0,
      "outputs": []
    },
    {
      "cell_type": "code",
      "metadata": {
        "id": "5w9BZoRfDBSC",
        "colab_type": "code",
        "colab": {}
      },
      "source": [
        ""
      ],
      "execution_count": 0,
      "outputs": []
    },
    {
      "cell_type": "markdown",
      "metadata": {
        "id": "SuzDM2U0n8Ga",
        "colab_type": "text"
      },
      "source": [
        "#### **Mini task 2** - versión B dificil"
      ]
    },
    {
      "cell_type": "markdown",
      "metadata": {
        "id": "kXcuNxlGn-x5",
        "colab_type": "text"
      },
      "source": [
        " Se pide realizar un grafico del valor de las acciones diarias de las compañias **Amazon** y **Google** de los ultimos 10 años. Encontrar los puntos donde se cruzan los dos gráficos y marcarlos con un punto. Usar dos tipos de linea distintos."
      ]
    },
    {
      "cell_type": "code",
      "metadata": {
        "id": "a9jNGxytsxIW",
        "colab_type": "code",
        "colab": {}
      },
      "source": [
        "! wget  https://raw.githubusercontent.com/LedesmaFran/python/master/GOOGLE.csv\n",
        "! wget  https://raw.githubusercontent.com/LedesmaFran/python/master/AMZN.csv\n",
        "\n",
        "#Datos extraidos desde https://es.finance.yahoo.com/"
      ],
      "execution_count": 0,
      "outputs": []
    },
    {
      "cell_type": "code",
      "metadata": {
        "id": "E_7QSA72ufTV",
        "colab_type": "code",
        "colab": {}
      },
      "source": [
        ""
      ],
      "execution_count": 0,
      "outputs": []
    },
    {
      "cell_type": "markdown",
      "metadata": {
        "id": "fCGYdRTLuGlc",
        "colab_type": "text"
      },
      "source": [
        "# **Piechart**\n",
        "Este grafico lo realizamos con la siguiente funcion:\n",
        "\n",
        "\n",
        "> plt.**pie**($tamaños$)\n",
        "\n",
        "\n",
        "\n"
      ]
    },
    {
      "cell_type": "code",
      "metadata": {
        "id": "TQIcsgGWuHwF",
        "colab_type": "code",
        "colab": {}
      },
      "source": [
        "import matplotlib.pyplot as plt\n",
        "\n",
        "sizes = [215, 130, 245, 210, 120, 45]\n",
        "\n",
        " \n",
        "plt.pie(sizes)\n",
        "plt.show()"
      ],
      "execution_count": 0,
      "outputs": []
    },
    {
      "cell_type": "markdown",
      "metadata": {
        "id": "zv78JFjaJaaw",
        "colab_type": "text"
      },
      "source": [
        "El gráfico asi no nos dice mucho, por lo que con las siguientes opciones podemos hacerlo mas util:\n",
        "\n",
        "- **explode**: Le indicamos si alguna de las porciones deben estar alejadas del centro/\n",
        "\n"
      ]
    },
    {
      "cell_type": "code",
      "metadata": {
        "id": "Jk6Nv2yMJlEx",
        "colab_type": "code",
        "colab": {}
      },
      "source": [
        "import matplotlib.pyplot as plt\n",
        "\n",
        "sizes = [215, 130, 245, 210, 300]\n",
        "\n",
        "e = (0.2, 0, 0, 0, 0)  # explode 1st slice\n",
        " \n",
        "plt.pie(sizes, explode=e)\n",
        " #en autopct ponemos como deseamos que se escriban los porcentajes\n",
        "\n",
        "plt.axis('equal')\n",
        "plt.show()"
      ],
      "execution_count": 0,
      "outputs": []
    },
    {
      "cell_type": "markdown",
      "metadata": {
        "id": "fpdmvSLVO80u",
        "colab_type": "text"
      },
      "source": [
        "- **labels**: Le indicamos el nombre de cada porción.\n"
      ]
    },
    {
      "cell_type": "code",
      "metadata": {
        "id": "7-ocZVzxPLjh",
        "colab_type": "code",
        "colab": {}
      },
      "source": [
        "import matplotlib.pyplot as plt\n",
        "\n",
        "l = ('Python', 'C++', 'Ruby', 'Java')\n",
        "sizes = [215, 130, 245, 210]\n",
        "\n",
        "\n",
        "e = (0.1, 0, 0, 0)  # explode 1st slice\n",
        " \n",
        "plt.pie(sizes, explode=e, labels=l)\n",
        " #en autopct ponemos como deseamos que se escriban los porcentajes\n",
        "\n",
        "plt.axis('equal')\n",
        "plt.show()"
      ],
      "execution_count": 0,
      "outputs": []
    },
    {
      "cell_type": "markdown",
      "metadata": {
        "id": "raEm6BoKO-OY",
        "colab_type": "text"
      },
      "source": [
        "- **colors**: Le podemos asignar un color nosotros.\n"
      ]
    },
    {
      "cell_type": "code",
      "metadata": {
        "id": "5jSnB_BGPTlt",
        "colab_type": "code",
        "colab": {}
      },
      "source": [
        "import matplotlib.pyplot as plt\n",
        "\n",
        "l = ('Python', 'C++', 'Ruby', 'Java')\n",
        "sizes = [215, 130, 245, 210]\n",
        "c = ['gold', 'yellowgreen', 'lightcoral', 'lightskyblue']\n",
        "\n",
        "e = (0.1, 0, 0, 0)  # explode 1st slice\n",
        " \n",
        "plt.pie(sizes, explode=e, colors=c, labels=l)\n",
        " #en autopct ponemos como deseamos que se escriban los porcentajes\n",
        "\n",
        "plt.axis('equal')\n",
        "plt.show()"
      ],
      "execution_count": 0,
      "outputs": []
    },
    {
      "cell_type": "markdown",
      "metadata": {
        "id": "lf_sexpvO_pg",
        "colab_type": "text"
      },
      "source": [
        "- **startangle**: Le idnicamos el angulo de rotación.\n"
      ]
    },
    {
      "cell_type": "code",
      "metadata": {
        "id": "dFNYdz1aPjHb",
        "colab_type": "code",
        "colab": {}
      },
      "source": [
        "import matplotlib.pyplot as plt\n",
        "\n",
        "labels = 'Python', 'C++', 'Ruby', 'Java'\n",
        "sizes = [2150, 130, 245, 210]\n",
        "colors = ['gold', 'yellowgreen', 'lightcoral', 'lightskyblue']\n",
        "\n",
        "explode = (0.1, 0, 0, 0)  # explode 1st slice\n",
        " \n",
        "plt.pie(sizes, explode=explode, labels=labels, colors=colors,  startangle=0)\n",
        " #en autopct ponemos como deseamos que se escriban los porcentajes\n",
        "\n",
        "plt.axis('equal')\n",
        "plt.show()"
      ],
      "execution_count": 0,
      "outputs": []
    },
    {
      "cell_type": "markdown",
      "metadata": {
        "id": "q9uPv8dMPBL-",
        "colab_type": "text"
      },
      "source": [
        "- **autopct**: Le indicamos que nos muestre los porcentajes. Esto sigue una sintaxis estandar, pero para que muestre un decimal se usa la siguiente \"%1.1f%%\" esto le dice que vamos a mostrar un numero float con 1 decimal, el %% indica que queremos el simbolo %. "
      ]
    },
    {
      "cell_type": "code",
      "metadata": {
        "id": "CpRRXZuwPqJK",
        "colab_type": "code",
        "colab": {}
      },
      "source": [
        "import matplotlib.pyplot as plt\n",
        "\n",
        "labels = ('Python', 'C++', 'Ruby', 'Java')\n",
        "sizes = [215, 130, 245, 210]\n",
        "colors = ['gold', 'yellowgreen', 'lightcoral', 'lightskyblue']\n",
        "\n",
        "explode = (0.1, 0, 0, 0)  # explode 1st slice\n",
        " \n",
        "plt.pie(sizes, explode=explode, labels=labels, colors=colors, autopct='%5.01f%%',  startangle=140)\n",
        " #en autopct ponemos como deseamos que se escriban los porcentajes\n",
        "\n",
        "plt.axis('equal')\n",
        "plt.show()"
      ],
      "execution_count": 0,
      "outputs": []
    },
    {
      "cell_type": "markdown",
      "metadata": {
        "id": "6SffUwPmVIFB",
        "colab_type": "text"
      },
      "source": [
        "### **Mini task 3**\n",
        "\n",
        "Hacer una pizza con 4 sabores distintos"
      ]
    },
    {
      "cell_type": "code",
      "metadata": {
        "id": "tTrfrH89VShy",
        "colab_type": "code",
        "colab": {}
      },
      "source": [
        ""
      ],
      "execution_count": 0,
      "outputs": []
    },
    {
      "cell_type": "markdown",
      "metadata": {
        "id": "wUUuj0WsWQ-d",
        "colab_type": "text"
      },
      "source": [
        "**Nota**: Si quieren mas información de como mostrar la información efectivamente usando piecharts pueden visitar este [link](https://medium.com/@kvnamipara/a-better-visualisation-of-pie-charts-by-matplotlib-935b7667d77f)"
      ]
    },
    {
      "cell_type": "markdown",
      "metadata": {
        "id": "ZTkKUuURvNwm",
        "colab_type": "text"
      },
      "source": [
        "# **Stem plot**\n",
        "Un stem plot nos permite graficar puntos, se utiliza de la siguiente manera:\n",
        "\n",
        "\n",
        "> plt.**stem**(x,y)\n",
        "\n",
        "\n"
      ]
    },
    {
      "cell_type": "code",
      "metadata": {
        "id": "aEUYUSpYvWoF",
        "colab_type": "code",
        "colab": {}
      },
      "source": [
        "import matplotlib.pyplot as plt\n",
        "import numpy as np\n",
        "\n",
        "puntos = 10\n",
        "espacio = 1\n",
        "\n",
        "inicio = 0 \n",
        "fin =  5\n",
        "\n",
        "x = np.linspace(inicio,fin, puntos)\n",
        "y = x**2-4\n",
        "y2 = -0.5*x**2-4\n",
        "# En la priemra letra le decimos el color y despues el estilo de linea\n",
        "\n",
        "plt.stem(x,y)\n",
        "plt.show()\n",
        "plt.stem(x,y2, 'r-')\n",
        "\n",
        "plt.show()"
      ],
      "execution_count": 0,
      "outputs": []
    },
    {
      "cell_type": "markdown",
      "metadata": {
        "id": "32K3lFg9LP6C",
        "colab_type": "text"
      },
      "source": [
        "Pero esto no se ve muy lindo, por lo que podemos al igual que las lineas decirle el color, el tipo de linea y el nombre:\n",
        "\n",
        "**Nota**: Podemos combinar este grafico con un plot común!"
      ]
    },
    {
      "cell_type": "code",
      "metadata": {
        "id": "EzxJL0YXLO06",
        "colab_type": "code",
        "colab": {}
      },
      "source": [
        "import matplotlib.pyplot as plt\n",
        "import numpy as np\n",
        "\n",
        "puntos = 10\n",
        "espacio = 1\n",
        "\n",
        "inicio = 0 \n",
        "fin =  5\n",
        "\n",
        "x = np.linspace(inicio,fin, puntos)\n",
        "y = x**2-4\n",
        "y2 = -0.5*x**2-4\n",
        "# En la priemra letra le decimos el color y despues el estilo de linea\n",
        "\n",
        "plt.stem(x, y ,'g-',label='Ingresos')\n",
        "plt.stem(x,y2,'r-.',label = 'Gastos')\n",
        "plt.plot(x,y+y2,'b-',label = 'Ganancia')\n",
        "\n",
        "plt.legend()\n",
        "plt.show()"
      ],
      "execution_count": 0,
      "outputs": []
    },
    {
      "cell_type": "markdown",
      "metadata": {
        "id": "UeEadXCrP-X1",
        "colab_type": "text"
      },
      "source": [
        "Pero observamos que el punto de los gastos esta en azul, esto podemos cambiarlo con:\n",
        "-  **markerfmt**=color y punto: Le indicamos un color y un tipo de punto con una sintaxis parecida el tipo de linea."
      ]
    },
    {
      "cell_type": "code",
      "metadata": {
        "id": "gX_4ZbByQUwR",
        "colab_type": "code",
        "colab": {}
      },
      "source": [
        "import matplotlib.pyplot as plt\n",
        "import numpy as np\n",
        "\n",
        "puntos = 10\n",
        "espacio = 1\n",
        "\n",
        "inicio = 0 \n",
        "fin =  5\n",
        "\n",
        "x = np.linspace(inicio,fin, puntos)\n",
        "y = x**2\n",
        "y2 = -0.5*x**2-4\n",
        "# En la priemra letra le decimos el color y despues el estilo de linea\n",
        "\n",
        "plt.stem(x, y ,'g-',label='Ingresos',markerfmt='b*')\n",
        "plt.stem(x,y2,'r-.',label = 'Gastos',markerfmt='rx')\n",
        "plt.plot(x,y+y2,'b-',label = 'Ganancia')\n",
        "\n",
        "plt.legend()\n",
        "\n",
        "plt.show()"
      ],
      "execution_count": 0,
      "outputs": []
    },
    {
      "cell_type": "markdown",
      "metadata": {
        "id": "xeS30JGVvoxO",
        "colab_type": "text"
      },
      "source": [
        "# **Histograma**"
      ]
    },
    {
      "cell_type": "markdown",
      "metadata": {
        "id": "b0WC53YIWztC",
        "colab_type": "text"
      },
      "source": [
        "Para realizar un histograma utilizamos la función:\n",
        "\n",
        "> plt.**hist**(x,numero de bins,propiedades)\n",
        "\n",
        "Veamos un ejemplo:"
      ]
    },
    {
      "cell_type": "code",
      "metadata": {
        "id": "a4qHb__9XK__",
        "colab_type": "code",
        "colab": {}
      },
      "source": [
        "import matplotlib.pyplot as plt\n",
        "import numpy as np\n",
        "\n",
        "rand = np.random.normal(0,2,1000) # generamos 1000 numeros al azar con distribución normal\n",
        "#print(rand)\n",
        "plt.hist(rand,20)\n",
        "plt.show()"
      ],
      "execution_count": 0,
      "outputs": []
    },
    {
      "cell_type": "markdown",
      "metadata": {
        "id": "ThejJH3YXlO6",
        "colab_type": "text"
      },
      "source": [
        "Podemos superponerle la función teorica:\n",
        "\n",
        "**Nota**: le podemos pasar el parametro **densit=True** indicandole que normalize el histograma"
      ]
    },
    {
      "cell_type": "code",
      "metadata": {
        "id": "GnZN6ZeZXpWQ",
        "colab_type": "code",
        "colab": {}
      },
      "source": [
        "import matplotlib.pyplot as plt\n",
        "import numpy as np\n",
        "mu = 0\n",
        "var = 1\n",
        "t = np.arange(-10,10,0.01)\n",
        "y = 1/np.sqrt(2*np.pi*var)*np.exp(-(t-mu)**2/(2*var))\n",
        "rand = np.random.normal(mu,var,10000)\n",
        "plt.hist(rand,30,density=True)\n",
        "plt.plot(t,y)\n",
        "plt.show()\n",
        "\n"
      ],
      "execution_count": 0,
      "outputs": []
    },
    {
      "cell_type": "markdown",
      "metadata": {
        "id": "r6UOdDeFSP7o",
        "colab_type": "text"
      },
      "source": [
        "# **Guardar el gráfico**\n",
        "Todos los gráficos que estuvimos haciendo podemos guardarlos como png o jpg para agregarlos a nuestros informes!\n",
        "\n",
        "Esto lo hacemos con la siguiente función:\n",
        "\n",
        "> plt.**savefig**(nombre del archivo)\n",
        "\n",
        "Nota: Es muy imporante que lo hagan antes del **show** ya que si no el gráfico ya se habra enviado a pantalla y se limpia para hacer otro grafico!"
      ]
    },
    {
      "cell_type": "code",
      "metadata": {
        "id": "43105cnjSmv6",
        "colab_type": "code",
        "colab": {}
      },
      "source": [
        "import numpy as np\n",
        "import matplotlib.pyplot as plt\n",
        "\n",
        "# valores de los componentes\n",
        "# genero un vector con tiempos para evaluar las funciones y plotear\n",
        "\n",
        "t = np.arange(0, 1, 0.01)\n",
        "y = np.exp(-t*2+1)\n",
        "\n",
        "y2 = 1.25*np.exp(t*2-1)\n",
        "plt.figure(figsize=(10,5))\n",
        "plt.plot(t, y, \"green\",label=\"Demanda\")\n",
        "plt.plot(t, y2, \"orange\",label=\"Oferta\")\n",
        "\n",
        "plt.ylabel(\"Cantidad (Millones)\")\n",
        "plt.xlabel(\"Precio ($)\")\n",
        "\n",
        "# agregamos leyenda\n",
        "plt.legend(loc=\"upper left\")\n",
        "\n",
        "# muestro el grafico que prepare\n",
        "plt.savefig('ofdem.png')\n",
        "plt.show()\n"
      ],
      "execution_count": 0,
      "outputs": []
    },
    {
      "cell_type": "markdown",
      "metadata": {
        "id": "OBjW_tjn0uUD",
        "colab_type": "text"
      },
      "source": [
        "### **Mini task 4**\n",
        "\n",
        "Leer el archivo **notas.xlsx** que tiene en el campo **Notas** los puntajes de alumnos en un examen (van de 0 a 10) y armar un histograma con los datos, guadrarlo en un archivo **Notas.png**"
      ]
    },
    {
      "cell_type": "code",
      "metadata": {
        "id": "EufhhFea077Q",
        "colab_type": "code",
        "colab": {}
      },
      "source": [
        "! wget \"https://raw.githubusercontent.com/IEEESBITBA/Curso-Python/master/Clase_4_datos/notas.xlsx\""
      ],
      "execution_count": 0,
      "outputs": []
    },
    {
      "cell_type": "code",
      "metadata": {
        "id": "ba5Dhdc308jN",
        "colab_type": "code",
        "colab": {}
      },
      "source": [
        ""
      ],
      "execution_count": 0,
      "outputs": []
    },
    {
      "cell_type": "markdown",
      "metadata": {
        "id": "ebhwwnNlAZf8",
        "colab_type": "text"
      },
      "source": [
        "### **Mini task final** - version A facil"
      ]
    },
    {
      "cell_type": "markdown",
      "metadata": {
        "id": "R37GdemPDlAT",
        "colab_type": "text"
      },
      "source": [
        "Se tiene en un archivo **electrocardiograma.xlsx** la información del resultado de un electrocardiograma en dos columnas, una tiene los tiempos de las mediciones (**tiempo**), y la segunda los valores de la señal (**valor**). Calcular los picos del gráfico y marcarlos.\n",
        "\n",
        "Sugerencia: [find_peaks()](https://docs.scipy.org/doc/scipy/reference/generated/scipy.signal.find_peaks.html)\n"
      ]
    },
    {
      "cell_type": "code",
      "metadata": {
        "id": "ZFGMiguWCiCy",
        "colab_type": "code",
        "colab": {}
      },
      "source": [
        "! wget \"https://raw.githubusercontent.com/IEEESBITBA/Curso-Python/master/Clase_4_datos/electrocardiograma.xlsx\""
      ],
      "execution_count": 0,
      "outputs": []
    },
    {
      "cell_type": "code",
      "metadata": {
        "id": "wrLzXGCuF4QC",
        "colab_type": "code",
        "colab": {}
      },
      "source": [
        ""
      ],
      "execution_count": 0,
      "outputs": []
    },
    {
      "cell_type": "markdown",
      "metadata": {
        "id": "szXwrFjAFJ68",
        "colab_type": "text"
      },
      "source": [
        "### **Mini task final** - version B dificil\n",
        "\n",
        "Se tiene en un archivo **electrocardiograma.xlsx** la información del resultado de un electrocardiograma en dos columnas, una tiene los tiempos de las mediciones (**tiempo**), y la segunda los valores de la señal (**valor**). Calcular las [frecuencia cardiaca](https://es.wikipedia.org/wiki/Frecuencia_card%C3%ADaca) del paciente medida en latidos por minuto.\n",
        "\n",
        "Sugerencia: [find_peaks()](https://docs.scipy.org/doc/scipy/reference/generated/scipy.signal.find_peaks.html)\n"
      ]
    },
    {
      "cell_type": "code",
      "metadata": {
        "id": "5dMaZe3LFOcR",
        "colab_type": "code",
        "colab": {}
      },
      "source": [
        "! wget \"https://raw.githubusercontent.com/IEEESBITBA/Curso-Python/master/Clase_4_datos/electrocardiograma.xlsx\""
      ],
      "execution_count": 0,
      "outputs": []
    },
    {
      "cell_type": "code",
      "metadata": {
        "id": "zjjK1F9uF3qv",
        "colab_type": "code",
        "colab": {}
      },
      "source": [
        ""
      ],
      "execution_count": 0,
      "outputs": []
    },
    {
      "cell_type": "markdown",
      "metadata": {
        "id": "ndPQ2y6zwcnX",
        "colab_type": "text"
      },
      "source": [
        "# **Casos de aplicación**\n",
        "\n",
        "Se mostrarán en forma de conclusión a continuación algunos ejemplos de aplicación de **Python**.\n",
        "\n",
        "### **Resolución de EDOS - Ejercicio de Reactores I**\n",
        "*Ariel Nowik, Joaquin Mestanza, Tomas Wierzba*\n",
        "\n",
        "Resolvemos una ecuación diferencial de una materia de Quimica mediante un script de python en lugar de la manera \"tradicional\" con un excel. Muchas veces utilizar un script es más práctico y versatil ya que se puede integrar con otras funcionalidades del lenguaje.\n",
        "\n",
        "([Código aqui](https://github.com/jmestanza/ideas/tree/master/QuimicaEdos)) \n",
        "\n",
        "\n",
        "### **Web scrapper - página web del itba**\n",
        "*Ariel Nowik*\n",
        "\n",
        "Un scrapper es un script capaz de extraer información y escribir información en una página web (es un robot). Este código de python analiza la página del itba para conseguir información de las distintas materias.\n",
        "\n",
        "([Código aqui](https://github.com/elgrandt/CalificaProfesores-Utils/blob/master/scrapping/itba.py))\n",
        "\n",
        "### **Hackerank - plataforma de programación**\n",
        "*Mateo Bartellini*\n",
        "\n",
        "Hackerank es una plataforma donde los programadores aprenden a programar y entrenan progresivamente sus habilidades. Es muy utilizada por las empresas para hacer recruiting. Les pasamos el link de una competencia de práctica para introducirse a la plataforma\n",
        "\n",
        "([Link aqui](https://www.hackerrank.com/curso-de-python))\n",
        "\n",
        "### **Book Selector**\n",
        "*Ignacio Vidaurreta*\n",
        "\n",
        "Este script elige un libro al azar para que el usuario lea uno nuevo\n",
        "\n",
        "([Código aqui](https://github.com/ignacioVidaurreta/bookSelector))\n",
        "\n",
        "### **Piedra papel o tijera**\n",
        "*Ignacio Vidaurreta*\n",
        "\n",
        "Este script es un juego (por consola) de piedra papel o tijera\n",
        "\n",
        "([Código aqui](https://github.com/ignacioVidaurreta/rockPaperScissors/blob/master/rps.py))\n",
        "\n"
      ]
    },
    {
      "cell_type": "markdown",
      "metadata": {
        "id": "zHzNes7co80h",
        "colab_type": "text"
      },
      "source": [
        "# **Ejercitación Integrada**\n",
        "$\\newcommand{\\dif}{\\bigstar}$$\\newcommand{\\facil}{\\color{\\green}{\\dif}}$ $\\newcommand{\\pieceofcake}{\\color{cyan}{\\dif}}$$\\newcommand{\\medio}{\\color{\\yellow}{\\dif\\dif}}$$\\newcommand{\\media}{\\medio}$$\\newcommand{\\normal}{\\medio}$  $\\newcommand{\\dificil}{\\color{\\orange}{\\dif\\dif\\dif}}$ $\\newcommand{\\imposible}{\\color{\\red}{\\dif\\dif\\dif\\dif}}$ "
      ]
    },
    {
      "cell_type": "markdown",
      "metadata": {
        "id": "r27ziYulSJX4",
        "colab_type": "text"
      },
      "source": [
        "## $\\pieceofcake$ Those 3 sides\n",
        "Escribir una función que dibuje un triangulo equilatero, debe recibir 3 parametros: \n",
        "\n",
        "\n",
        "-   X,Y: coordenadas del centro\n",
        "-   L: Largo de los lados\n",
        "\n",
        "\n"
      ]
    },
    {
      "cell_type": "code",
      "metadata": {
        "id": "BWiy5nlkTGKy",
        "colab_type": "code",
        "colab": {}
      },
      "source": [
        ""
      ],
      "execution_count": 0,
      "outputs": []
    },
    {
      "cell_type": "markdown",
      "metadata": {
        "id": "_mO7uTNHI-Zy",
        "colab_type": "text"
      },
      "source": [
        "## $\\facil$ Caja y Bigote\n",
        "\n",
        "Vamos a crear un histograma (visto a comienzo de clase) y un <a href=\"https://matplotlib.org/api/_as_gen/matplotlib.pyplot.boxplot.html\">*Box-and-Whisker plot*</a>. \n",
        "\n",
        "\n",
        "<center>\n",
        "<img src=\"https://matplotlib.org/_images/sphx_glr_boxplot_demo_pyplot_001.png\" height=300 title=\"Box and Whisker plot ejemplo.\">\n",
        " </center>\n",
        " \n",
        " Este tipo de gráfico es comunmente utilizado para mostrar la distribución de una población de forma muy visual.\n",
        "\n",
        "## Código dado\n",
        "```\n",
        "! wget \"https://raw.githubusercontent.com/IEEESBITBA/Curso-Python/master/Clase_3_datos/NotasFinitos.csv\"\n",
        "\n",
        "import pandas as pd\n",
        "import matplotlib.pyplot as plt\n",
        "datos = pd.read_csv(\"NotasFinitos.csv\")\n",
        "print(datos)\n",
        "```\n",
        "## Objetivos\n",
        "\n",
        "### Procesamiento de datos\n",
        "Procesar Notas de tres parciales (convertirlas a números). Se debería obtener tres listas con notas del 0-140, una para cada uno de los tres parciales. Tengan cuidado que pandas devuelve las notas en formato `string`!\n",
        "\n",
        "  Función para ver si un valor es `NaN`\n",
        " ```\n",
        " def isNaN(num):\n",
        "    return num != num\n",
        " ```\n",
        " \n",
        " ### Graficar Histograma\n",
        " \n",
        "El histograma debería tener 5 barras **por cada parcial**.\n",
        " \n",
        " **Intervalos:**\n",
        " * Notas entre 0-30\n",
        " * Notas entre 31-60\n",
        " *  Notas entre 61-90\n",
        " * Notas entre 91-120\n",
        " * Notas entre 121-140\n",
        " \n",
        " Esto se puede lograr otorgandole un valor a la propiedad  <a href=\"https://en.wikipedia.org/wiki/Histogram\">`bins` del histograma</a>. \n",
        " \n",
        "```\n",
        "plt.hist([parcial1,parcial2,parcial3], bins=intervalos_superiores ,label=nombreDeDatasets)\n",
        "```\n",
        "\n",
        "  ### Graficar Box-and-Whisker plot\n",
        " Graficar el *box-and-whisker plot*\n",
        " \n",
        " ```\n",
        " plt.boxplot([notasParcial1, notasParcial2, notasParcial3])\n",
        " ```\n",
        "\n",
        " \n",
        " \n",
        " **Datos y Tips**\n",
        " \n",
        " * Las notas pueden contener los siguientes valores:\n",
        "  * `0-140` : Nota numérica\n",
        "  * `'Ausente'` : Indica ausencia al parcial\n",
        "  * `'NaN'` : El alumno no cumplio condiciones para rendir parcial (celda vacia)\n",
        " \n",
        " * Descartar los valores no-numéricos (Ausente y NaN)\n",
        " \n",
        " * Usar $\\mathrm{int()}$ para convertir valores numericos de `string` a `int`!\n"
      ]
    },
    {
      "cell_type": "code",
      "metadata": {
        "id": "fp2ZL-rXKge0",
        "colab_type": "code",
        "colab": {}
      },
      "source": [
        ""
      ],
      "execution_count": 0,
      "outputs": []
    },
    {
      "cell_type": "markdown",
      "metadata": {
        "id": "srBpv_amp3bl",
        "colab_type": "text"
      },
      "source": [
        "## $\\normal$ Bug Catcher y el disco de la Eutrofia \n",
        "Pasaron 10 años desde que se concretó un acuerdo para la construcción de una fabrica de queso al lado del Lago Nahuel Huapi, a dos kilometros de la ciudad natal de *Bug Catcher*. *Bug Catcher* dice que en ese tiempo el agua del lago ha visto un deterioro en su calidad y esta peticionando ante la ciudad la imposición de regulaciones más estrictas sobre los efluentes de la fabrica.\n",
        "\n",
        "Pero primero tiene que demostrar este deterioro... *Y así,* Bug Catcher *ha venido a tí para pedirte ayuda graficando los resultados de un estudio de agua.*\n",
        "\n",
        "$\\newcommand{\\zf}{{z_{\\mathrm{f}}}}$\n",
        "\n",
        "---\n",
        "\n",
        "\n",
        "<center>\n",
        "<img src=\"https://cdn.bulbagarden.net/upload/archive/3/3f/20091012043640%21Spr_RG_Bug_Catcher.png\" height=200 title=\"I catch bugs and stop global conglomerates from getting away with enviromental crimes.\" ></center>\n",
        "\n",
        "\n",
        "---\n",
        "\n",
        "\n",
        "**El estudio**\n",
        "\n",
        "Se efectua un estudio de <a href=\"https://en.wikipedia.org/wiki/Trophic_state_index#Eutrophic\">turbiedad</a> de agua del tipo <a href=\"https://en.wikipedia.org/wiki/Secchi_disk\">*Secchi*</a> . El estudio consiste en hundir un disco blanco en el cuerpo de agua a estudiar y medir la profundidad $\\zf$  a la cual el disco desaparece. Para el estudio se tiene que tener en cuenta la intensidad de la luz sobre el cuerpo de agua $I_0$.\n",
        "\n",
        "\n",
        "\n",
        "**El problema**\n",
        "\n",
        "*Bug Catcher* quiere un gráfico que muestre la turbiedad del lago Nahuel Huapi y compararlo a la de otro lago cercano <a href=\"https://es.wikipedia.org/wiki/Anexo:Definiciones_usuales_en_hidrolog%C3%ADa#Aguas_arriba\">*río arriba*</a>. \n",
        "\n",
        "**Objetivo**\n",
        "\n",
        "Graficar la intensidad de luz $I_z$ en el eje vertical a una profundidad $z$ ($z$ en el eje horizontal) para el Nahuel Huapi y el otro lago. \n",
        "\n",
        "**Datos**\n",
        "\n",
        "Rige la ley de <a href=\"https://en.wikipedia.org/wiki/Beer%E2%80%93Lambert_law\">Beer-Lambert</a>:\n",
        "$$\\frac{I_{z}}{I_{0}}=e^{-k z}$$\n",
        "donde \n",
        "* $I_z$ es la intensidad de luz a una profundidad $z$\n",
        "* $I_0$ es la intensidad de luz sobre la superficie del agua, para un día soleado $I_0\\approx 700\\  \\mathrm{W/m}^2$\n",
        "* $k$ es el factor de atenuación del agua. Indica turbiedad.\n",
        "\n",
        "Sabemos que el disco <a href=\"https://en.wikipedia.org/wiki/Secchi_disk\">*Secchi*</a>  de *Bug Catcher* desaparece bajo **56cm** de agua del Nahuel Huapi.  **Para todos los cálculos suponga que la relación** $\\frac{I_\\zf}{I_0}$ **vale** $10\\%$ (para la profundidad a la cual desaparece el disco).\n",
        "\n",
        "El factor de atenuación del lago *río arriba* fue medido la semana pasada y vale $k_{\\mathrm{ra}}=0,009\\ \\mathrm{cm}^{-1}$.\n",
        "\n",
        "**Tips:**\n",
        "\n",
        "* Hay que despejar $k$ y calcularla para el lago Nahuel Huapi antes de graficar\n",
        "* la función `log` de la libreria `math` es el logaritmo natural\n",
        "* Pruebe graficar ambas curvas hasta la profundidad $\\zf$ del lago río arriba\n",
        "* **Tener una bolígrafo y un cuaderno abierto ayuda.**"
      ]
    },
    {
      "cell_type": "code",
      "metadata": {
        "id": "E8AoWU_f32WH",
        "colab_type": "code",
        "colab": {}
      },
      "source": [
        ""
      ],
      "execution_count": 0,
      "outputs": []
    },
    {
      "cell_type": "markdown",
      "metadata": {
        "id": "jyOdmudlCdjP",
        "colab_type": "text"
      },
      "source": [
        "## $\\normal$ Las Algas del Nahuel Huapi (Bug Catcher Continuado)\n",
        "\n",
        "*Bug Catcher* ha <a href=\"https://link.springer.com/article/10.1007/BF00041459\">encontrado un paper</a> sobre el crecimiento de algas en relación a la intensidad de luz. No entiende los gráficos del paper (porque no estan hechos en Python) pero llega a leer:\n",
        "\n",
        "* Debajo de una intensidad de $3\\%$ de la del sol ($I_0$) el crecimiento de las algas dismunuye rapidamente\n",
        "\n",
        "* entre $3\\%$ y $25\\%$ las algas crecen bien.\n",
        "\n",
        "**Objetivo**\n",
        "\n",
        "Mostrar rango de profundidad a la cual las algas podrían sobrevivir en el Nahuel Huapi en $\\color{green}{\\textsf{verde}}$ y la zona a partir de la cual sufren en $\\color{red}{\\textsf{rojo}}$.\n",
        "\n",
        "**Tips:**\n",
        "* $\\% I_0=\\frac{I_{z}}{I_{0}}=e^{-k z}\\quad \\longrightarrow \\quad z = -\\frac{\\ln(\\% I_0)}{k}$  \n",
        "* Funcion coloreado debajo la curva: `plt.fill_between(zbien, Izbien, color=\"green\",label=\"Crecimiento bueno\")`\n",
        "\n",
        "**Bonus**\n",
        "\n",
        "Como se ve afectada la zona donde sobreviven las algas al modificar el parametro $k$?"
      ]
    },
    {
      "cell_type": "markdown",
      "metadata": {
        "id": "FOavKBMEzJWl",
        "colab_type": "text"
      },
      "source": [
        "## $\\dificil$ Esos Malditos Mecánicos...\n",
        "Los mecánicos viven bajo la impresión que el $\\text{MATLAB}$ resuelve todos los problemas. Lo que no te cuentan es que cuando llega el momento de guardar o promediar las notas, *abren un Excel*... Si solo alguien les enseñara un poco de Python...\n",
        "\n",
        "**Intro**\n",
        "\n",
        "Volodymyr es un profesor de la materia **Elementos Finitos I** en el ITBA. El <a href=\"https://en.wikipedia.org/wiki/Finite_element_method\">método de los elementos finitos</a> consiste en modelar sistemas de solidos o fluidos mediante una partición del sistema en subsistemas que se resuelven en conjunto según condiciones de borde y condiciones iniciales. \n",
        "\n",
        "**Problema**\n",
        "\n",
        "El segundo cuatrimestre del 2018 Volodymyr tomó 3 parciales y ahora quiere obtener estadisticas y además saber cuales alumnos aprobaron y cuales no. El archivo `NotasFinitos.csv` contiene los datos **reales** de dicha materia sin los nombres de los alumnos. \n",
        "\n",
        "\n",
        "\n",
        "---\n",
        "<center>\n",
        "<img src=\"https://grupocarman.com/blog/wp-content/uploads/2014/10/Mallado-por-elementos-finitos.png\" title=\"Un modelo de un motor. En rojo las partes más comprometidas por fuerzas.\" height=200>\n",
        "  \n",
        "  ***La resolución correcta de este ejercicio indica que el programador tiene un solido conocimiento del manejo de datos y estructuras de control.***\n",
        "</center>\n",
        "\n",
        "---\n",
        "\n",
        "\n",
        "**Objetivos**\n",
        "\n",
        "Del archivo `\"https://raw.githubusercontent.com/IEEESBITBA/Curso-Python/master/Clase_3_datos/NotasFinitos.csv\"` : \n",
        "\n",
        "* Obtener promedios para cada parcial\n",
        "* Obtener promedio para toda la cursada\n",
        "* Obtener promedios de de los que aprobaron la materia, para cada parcial.\n",
        "\n",
        "\n",
        "***Condiciones de Borde***\n",
        "\n",
        "* Condición de aprobación de parcial:   `Nota>=60`\n",
        "\n",
        "* Para aprobar la materia se necesita aprobar 2 parciales y sumar entre los tres parciales: `sumaNotas>=160` \n",
        "\n",
        "* Las notas pueden contener los siguientes valores:\n",
        "  * `0-140` : Nota numérica\n",
        "  * `'Ausente'` : Indica ausencia al parcial\n",
        "  * `'NaN'` : El alumno no cumplio condiciones para rendir parcial (celda vacia)\n",
        "\n",
        "* Tomar los valores `Ausente` y `NaN` como `0`. Usar la función $\\mathrm{isNaN}$ en el código de arriba\n",
        "\n",
        "**Tips:**\n",
        "* Las funciones pueden ser muy utiles para este ejercicio! \n",
        "\n",
        "* Convertir la nota de `string` a `int` usando la función $\\mathrm{int}(Nota)$\n",
        "\n",
        "* ***hint:*** Hay `49` alumnos de los cuales `19` aprobaron la materia según el criterio dado\n"
      ]
    },
    {
      "cell_type": "code",
      "metadata": {
        "id": "8n_67uSozRDE",
        "colab_type": "code",
        "colab": {}
      },
      "source": [
        "\n"
      ],
      "execution_count": 0,
      "outputs": []
    }
  ]
}